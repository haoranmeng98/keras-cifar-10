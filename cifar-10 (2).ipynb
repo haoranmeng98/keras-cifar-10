{
 "cells": [
  {
   "cell_type": "code",
   "execution_count": 2,
   "metadata": {},
   "outputs": [
    {
     "name": "stdout",
     "output_type": "stream",
     "text": [
      "train: 50000\n",
      "test : 10000\n",
      "train_image : (50000, 32, 32, 3)\n",
      "train_label : (50000, 1)\n",
      "test_image : (10000, 32, 32, 3)\n",
      "test_label : (10000, 1)\n"
     ]
    }
   ],
   "source": [
    "import numpy\n",
    "from keras.datasets import cifar10\n",
    "import numpy as np\n",
    "np.random.seed(10)\n",
    "# 导入数据集\n",
    "(x_img_train,y_label_train),(x_img_test, y_label_test)=cifar10.load_data()#？？？不太懂\n",
    "print('train:',len(x_img_train))#为什么是5000\n",
    "print('test :',len(x_img_test))#为什么是10000\n",
    "print('train_image :',x_img_train.shape)#5000张，32*32，三通道\n",
    "print('train_label :',y_label_train.shape)#5000个标签\n",
    "print('test_image :',x_img_test.shape)\n",
    "print('test_label :',y_label_test.shape)\n"
   ]
  },
  {
   "cell_type": "code",
   "execution_count": 3,
   "metadata": {},
   "outputs": [
    {
     "name": "stdout",
     "output_type": "stream",
     "text": [
      "[[[158 112  49]\n",
      "  [159 111  47]\n",
      "  [165 116  51]\n",
      "  ...\n",
      "  [137  95  36]\n",
      "  [126  91  36]\n",
      "  [116  85  33]]\n",
      "\n",
      " [[152 112  51]\n",
      "  [151 110  40]\n",
      "  [159 114  45]\n",
      "  ...\n",
      "  [136  95  31]\n",
      "  [125  91  32]\n",
      "  [119  88  34]]\n",
      "\n",
      " [[151 110  47]\n",
      "  [151 109  33]\n",
      "  [158 111  36]\n",
      "  ...\n",
      "  [139  98  34]\n",
      "  [130  95  34]\n",
      "  [120  89  33]]\n",
      "\n",
      " ...\n",
      "\n",
      " [[ 68 124 177]\n",
      "  [ 42 100 148]\n",
      "  [ 31  88 137]\n",
      "  ...\n",
      "  [ 38  97 146]\n",
      "  [ 13  64 108]\n",
      "  [ 40  85 127]]\n",
      "\n",
      " [[ 61 116 168]\n",
      "  [ 49 102 148]\n",
      "  [ 35  85 132]\n",
      "  ...\n",
      "  [ 26  82 130]\n",
      "  [ 29  82 126]\n",
      "  [ 20  64 107]]\n",
      "\n",
      " [[ 54 107 160]\n",
      "  [ 56 105 149]\n",
      "  [ 45  89 132]\n",
      "  ...\n",
      "  [ 24  77 124]\n",
      "  [ 34  84 129]\n",
      "  [ 21  67 110]]]\n"
     ]
    }
   ],
   "source": [
    "#查看像素\n",
    "print(x_img_test[0])\n"
   ]
  },
  {
   "cell_type": "code",
   "execution_count": 4,
   "metadata": {},
   "outputs": [],
   "source": [
    "# 可视化部分训练集\n",
    "label_dict={0:\"airplane\",1:\"automobile\",2:\"bird\",3:\"cat\",4:\"deer\",\n",
    "            5:\"dog\",6:\"frog\",7:\"horse\",8:\"ship\",9:\"truck\"}\n",
    "import matplotlib.pyplot as plt\n",
    "def plot_images_labels_prediction(images,labels,prediction,idx,num=10):\n",
    "    fig = plt.gcf()\n",
    "    fig.set_size_inches(12, 14) # 控制图片大小\n",
    "    if num>25: num=25  #最多显示25张\n",
    "    for i in range(0, num):\n",
    "        ax=plt.subplot(5,5, 1+i)\n",
    "        ax.imshow(images[idx],cmap='binary')\n",
    "        title=str(i)+','+label_dict[labels[i][0]]# i-th张图片对应的类别\n",
    "        if len(prediction)>0:\n",
    "            title+='=>'+label_dict[prediction[i]]\n",
    "        ax.set_title(title,fontsize=10) \n",
    "        ax.set_xticks([]);\n",
    "        ax.set_yticks([])        \n",
    "        idx+=1 \n",
    "    plt.savefig('1.png')\n",
    "    plt.show()\n"
   ]
  },
  {
   "cell_type": "code",
   "execution_count": 5,
   "metadata": {},
   "outputs": [
    {
     "name": "stdout",
     "output_type": "stream",
     "text": [
      "[6]\n",
      "6\n"
     ]
    }
   ],
   "source": [
    "print(y_label_train[0])\n",
    "print(y_label_train[0][0])"
   ]
  },
  {
   "cell_type": "code",
   "execution_count": 6,
   "metadata": {},
   "outputs": [
    {
     "name": "stdout",
     "output_type": "stream",
     "text": [
      "[59 62 63]\n",
      "[0.23137255 0.24313726 0.24705882]\n"
     ]
    }
   ],
   "source": [
    "print(x_img_train[0][0][0]) #（50000，32，32，3）\n",
    "#标准化图片\n",
    "x_img_train_normalize = x_img_train.astype('float32') / 255.0\n",
    "x_img_test_normalize = x_img_test.astype('float32') / 255.0\n",
    "print(x_img_train_normalize[0][0][0])\n"
   ]
  },
  {
   "cell_type": "code",
   "execution_count": 7,
   "metadata": {},
   "outputs": [
    {
     "name": "stdout",
     "output_type": "stream",
     "text": [
      "(50000, 1)\n",
      "[[6]\n",
      " [9]\n",
      " [9]\n",
      " [4]\n",
      " [1]]\n"
     ]
    }
   ],
   "source": [
    "#独热编码one hot encoding\n",
    "print(y_label_train.shape)\n",
    "\n",
    "print(y_label_train[:5])"
   ]
  },
  {
   "cell_type": "code",
   "execution_count": 8,
   "metadata": {},
   "outputs": [
    {
     "name": "stdout",
     "output_type": "stream",
     "text": [
      "(50000, 10)\n",
      "[[0. 0. 0. 0. 0. 0. 1. 0. 0. 0.]\n",
      " [0. 0. 0. 0. 0. 0. 0. 0. 0. 1.]\n",
      " [0. 0. 0. 0. 0. 0. 0. 0. 0. 1.]\n",
      " [0. 0. 0. 0. 1. 0. 0. 0. 0. 0.]\n",
      " [0. 1. 0. 0. 0. 0. 0. 0. 0. 0.]\n",
      " [0. 1. 0. 0. 0. 0. 0. 0. 0. 0.]\n",
      " [0. 0. 1. 0. 0. 0. 0. 0. 0. 0.]\n",
      " [0. 0. 0. 0. 0. 0. 0. 1. 0. 0.]\n",
      " [0. 0. 0. 0. 0. 0. 0. 0. 1. 0.]\n",
      " [0. 0. 0. 1. 0. 0. 0. 0. 0. 0.]]\n"
     ]
    }
   ],
   "source": [
    "from keras.utils import np_utils\n",
    "y_label_train_OneHot = np_utils.to_categorical(y_label_train)\n",
    "y_label_test_OneHot = np_utils.to_categorical(y_label_test)\n",
    "print(y_label_train_OneHot.shape)\n",
    "print(y_label_train_OneHot[:10])\n"
   ]
  },
  {
   "cell_type": "markdown",
   "metadata": {},
   "source": [
    "![title](channel.png)"
   ]
  },
  {
   "cell_type": "code",
   "execution_count": 24,
   "metadata": {},
   "outputs": [
    {
     "name": "stdout",
     "output_type": "stream",
     "text": [
      "_________________________________________________________________\n",
      "Layer (type)                 Output Shape              Param #   \n",
      "=================================================================\n",
      "conv2d_1 (Conv2D)            (None, 32, 32, 32)        896       \n",
      "_________________________________________________________________\n",
      "dropout_1 (Dropout)          (None, 32, 32, 32)        0         \n",
      "_________________________________________________________________\n",
      "max_pooling2d_1 (MaxPooling2 (None, 16, 16, 32)        0         \n",
      "_________________________________________________________________\n",
      "conv2d_2 (Conv2D)            (None, 16, 16, 64)        18496     \n",
      "_________________________________________________________________\n",
      "dropout_2 (Dropout)          (None, 16, 16, 64)        0         \n",
      "_________________________________________________________________\n",
      "max_pooling2d_2 (MaxPooling2 (None, 8, 8, 64)          0         \n",
      "_________________________________________________________________\n",
      "flatten_1 (Flatten)          (None, 4096)              0         \n",
      "_________________________________________________________________\n",
      "dropout_3 (Dropout)          (None, 4096)              0         \n",
      "_________________________________________________________________\n",
      "dense_1 (Dense)              (None, 1024)              4195328   \n",
      "_________________________________________________________________\n",
      "dropout_4 (Dropout)          (None, 1024)              0         \n",
      "_________________________________________________________________\n",
      "dense_2 (Dense)              (None, 10)                10250     \n",
      "=================================================================\n",
      "Total params: 4,224,970\n",
      "Trainable params: 4,224,970\n",
      "Non-trainable params: 0\n",
      "_________________________________________________________________\n",
      "None\n"
     ]
    }
   ],
   "source": [
    "from keras.models import Sequential\n",
    "from keras.layers import Dense, Dropout, Activation, Flatten\n",
    "from keras.layers import Conv2D, MaxPooling2D, ZeroPadding2D\n",
    "# 搭面包架子\n",
    "model = Sequential()#建立模型\n",
    "# 加面包：卷积层1 和 池化层1\n",
    "'''\n",
    "32个卷积核，每个卷积核3*3\n",
    "\n",
    "'''\n",
    "model.add(Conv2D(filters=32,kernel_size=(3,3),#3*3的卷积核\n",
    "                 input_shape=(32, 32,3), \n",
    "                 activation='relu', #relu函数\n",
    "                 padding='same'))#padding\n",
    "\n",
    "'''\n",
    "不同的padding方式,\n",
    "VALID是采用丢弃的方式,\n",
    "比如上述的input_width=13,\n",
    "只允许滑动2次,\n",
    "多余的元素全部丢掉\n",
    "\n",
    "\n",
    "SAME的方式,\n",
    "采用的是补全的方式,\n",
    "对于上述的情况,\n",
    "允许滑动3次,\n",
    "但是需要补3个元素,\n",
    "左奇右偶,在左边补一个0,\n",
    "右边补2个0\n",
    "'''\n",
    "model.add(Dropout(rate=0.25))#丢弃，yes\n",
    "\n",
    "model.add(MaxPooling2D(pool_size=(2, 2))) # 16* 16\n",
    "# 加面包：卷积层2 和 池化层2\n",
    "'''\n",
    "\n",
    "64个卷积核\n",
    "\n",
    "'''\n",
    "model.add(Conv2D(filters=64, kernel_size=(3, 3), \n",
    "                 activation='relu', padding='same'))\n",
    "model.add(Dropout(0.25))\n",
    "'''\n",
    "dropout 是指在深度学习网络的训练过程中，\n",
    "按照一定的概率将一部分神经网络单元暂时从网络中丢弃，\n",
    "相当于从原始的网络中找到一个更瘦的网络\n",
    "'''\n",
    "model.add(MaxPooling2D(pool_size=(2, 2))) # 8 * 8\n",
    "#Step3\t建立神經網路(平坦層、隱藏層、輸出層)\n",
    "model.add(Flatten()) # FC1,64个8*8转化为1维向量\n",
    "'''\n",
    "\n",
    "Flatten层用来将输入“压平”，\n",
    "即把多维的输入一维化，\n",
    "常用在从卷积层到全连接层的过渡。\n",
    "Flatten不影响batch的大小。\n",
    "\n",
    "\n",
    "\n",
    "'''\n",
    "model.add(Dropout(rate=0.25))\n",
    "#丢弃\n",
    "model.add(Dense(1024, activation='relu')) # FC1 1024\n",
    "#output shape （none，1024）\n",
    "#64*8*8！=1024\n",
    "'''\n",
    "FullyConnected 1\n",
    "输4096，输出 1024\n",
    "4096*1024 + 1024 = 4195328\n",
    "bingo!!!\n",
    "''' \n",
    "\n",
    "\n",
    "\n",
    "'''\n",
    "Dense就是常用的全连接层，\n",
    "所实现的运算是output = activation(dot(input, kernel)+bias)。\n",
    "其中activation是逐元素计算的激活函数，\n",
    "kernel是本层的权值矩阵，\n",
    "bias为偏置向量，\n",
    "只有当use_bias=True才会添加\n",
    "'''\n",
    "model.add(Dropout(rate=0.25))\n",
    "model.add(Dense(10, activation='softmax')) # Output 10\n",
    "'''\n",
    "FC2（output layer）\n",
    "输入\n",
    "1024，输出10\n",
    "1024*10+10 = 10250\n",
    "\n",
    "'''\n",
    "print(model.summary())\n",
    "'''\n",
    "参数计算：\n",
    "con1 滤波器大小 3*3，输入3通道，32个滤波器，输出32通道\n",
    "3 × 3 × 3 × 32 + 32 = 896\n",
    "\n",
    "con2 滤波器大小 3*3，输入32通道，64个滤波器，输出64通道\n",
    "32 × 3 × 3 × 64 + 64 = 18496\n",
    "\n",
    "'''\n",
    "\n",
    "\n",
    "'''\n",
    "有几个卷积核就可以学习几个特征，就有几个feature map\n",
    "假设输入数据的格式是[?,28,28,16],卷积核的尺寸是[3,3,16,32]\n",
    "\n",
    "输入数据的格式的含义是：\n",
    "\n",
    "？：batchsize\n",
    "\n",
    "28,28:feature map单个通道的尺寸（高，宽）\n",
    "\n",
    "16：feature map的通道数\n",
    "\n",
    "卷积核格式的含义：\n",
    "\n",
    "3,3：卷积核的高与宽\n",
    "\n",
    "16：卷积核的通道数\n",
    "\n",
    "32：卷积核的个数\n",
    "\n",
    "[3,3,16,32]的含义是指：卷积核的尺寸是3*3*16，宽为3，高为3，通道数为16（对应被卷积的张量的通道数），共有32个卷积核\n",
    "\n",
    "卷积的过程是：对于单个卷积核，有16个通道，\n",
    "每个通道的分量分别与对应的被卷积张量的对应通道卷积，\n",
    "得到16个通道的卷积结果，\n",
    "然后这16个通道的卷积结果按元素叠加，\n",
    "生成一个通道的卷积结果，\n",
    "然后该卷积结果再经过激活函数，\n",
    "得到最终的卷积结果。\n",
    "（至此，一个16通道的张量，\n",
    "经过一个16通道的卷积核后，\n",
    "得到了一个单通道的张量）                                    \n",
    "\n",
    "一个卷积核得到一个单通道的张量，共有32个卷积核，可得到32个单通道的张量，最后将这些张量连接起来，得到一个32通道的张量结果。\n",
    "\n",
    "'''"
   ]
  },
  {
   "cell_type": "markdown",
   "metadata": {},
   "source": [
    "![title](drop.png)"
   ]
  },
  {
   "cell_type": "markdown",
   "metadata": {},
   "source": [
    "![title](padding.png)"
   ]
  },
  {
   "cell_type": "code",
   "execution_count": 26,
   "metadata": {},
   "outputs": [],
   "source": [
    "#调用显卡\n",
    "import os  \n",
    "os.environ[\"CUDA_DEVICE_ORDER\"]=\"PCI_BUS_ID\"   \n",
    "os.environ[\"CUDA_VISIBLE_DEVICES\"]=\"0\"  "
   ]
  },
  {
   "cell_type": "code",
   "execution_count": 27,
   "metadata": {},
   "outputs": [
    {
     "name": "stdout",
     "output_type": "stream",
     "text": [
      "Train on 40000 samples, validate on 10000 samples\n",
      "Epoch 1/10\n",
      "40000/40000 [==============================] - 116s 3ms/step - loss: 1.5036 - acc: 0.4593 - val_loss: 1.2777 - val_acc: 0.5863\n",
      "Epoch 2/10\n",
      "40000/40000 [==============================] - 113s 3ms/step - loss: 1.1374 - acc: 0.5955 - val_loss: 1.1111 - val_acc: 0.6363\n",
      "Epoch 3/10\n",
      "40000/40000 [==============================] - 125s 3ms/step - loss: 0.9826 - acc: 0.6585 - val_loss: 1.0091 - val_acc: 0.6643\n",
      "Epoch 4/10\n",
      "40000/40000 [==============================] - 117s 3ms/step - loss: 0.8772 - acc: 0.6910 - val_loss: 0.9368 - val_acc: 0.6957\n",
      "Epoch 5/10\n",
      "40000/40000 [==============================] - 115s 3ms/step - loss: 0.7887 - acc: 0.7224 - val_loss: 0.8911 - val_acc: 0.7005\n",
      "Epoch 6/10\n",
      "40000/40000 [==============================] - 113s 3ms/step - loss: 0.7010 - acc: 0.7535 - val_loss: 0.8384 - val_acc: 0.7200\n",
      "Epoch 7/10\n",
      "40000/40000 [==============================] - 114s 3ms/step - loss: 0.6181 - acc: 0.7828 - val_loss: 0.8194 - val_acc: 0.7284\n",
      "Epoch 8/10\n",
      "40000/40000 [==============================] - 114s 3ms/step - loss: 0.5582 - acc: 0.8043 - val_loss: 0.7812 - val_acc: 0.7412\n",
      "Epoch 9/10\n",
      "40000/40000 [==============================] - 114s 3ms/step - loss: 0.4802 - acc: 0.8323 - val_loss: 0.8355 - val_acc: 0.7108\n",
      "Epoch 10/10\n",
      "40000/40000 [==============================] - 114s 3ms/step - loss: 0.4260 - acc: 0.8498 - val_loss: 0.7491 - val_acc: 0.7403\n"
     ]
    }
   ],
   "source": [
    "model.compile(loss='categorical_crossentropy',#交叉熵函数\n",
    "              optimizer='adam', metrics=['accuracy'])\n",
    "\n",
    "train_history=model.fit(x_img_train_normalize, y_label_train_OneHot,\n",
    "                        validation_split=0.2,\n",
    "                        epochs=10, batch_size=128, verbose=1) \n",
    "#fit函数将模型训练nb_epoch轮\n",
    "'''\n",
    "性能评估模块提供了一系列用于模型性能评估的函数,\n",
    "这些函数在模型编译时由metrics关键字设置\n",
    "\n",
    "shuffle用于将数据打乱\n",
    "validation_split用于在没有提供验证集的时候，\n",
    "按一定比例从训练集中取出一部分作为\n",
    "验证\n",
    "\n",
    "fit 中的 verbose\n",
    "verbose：日志显示\n",
    "verbose = 0 为不在标准输出流输出日志信息\n",
    "verbose = 1 为输出进度条记录\n",
    "verbose = 2 为每个epoch输出一行记录\n",
    "注意： 默认为 1\n",
    "'''\n"
   ]
  },
  {
   "cell_type": "code",
   "execution_count": 10,
   "metadata": {},
   "outputs": [
    {
     "ename": "NameError",
     "evalue": "name 'train_history' is not defined",
     "output_type": "error",
     "traceback": [
      "\u001b[1;31m---------------------------------------------------------------------------\u001b[0m",
      "\u001b[1;31mNameError\u001b[0m                                 Traceback (most recent call last)",
      "\u001b[1;32m<ipython-input-10-230417b58b8e>\u001b[0m in \u001b[0;36m<module>\u001b[1;34m\u001b[0m\n\u001b[0;32m      9\u001b[0m     \u001b[0mplt\u001b[0m\u001b[1;33m.\u001b[0m\u001b[0msavefig\u001b[0m\u001b[1;33m(\u001b[0m\u001b[1;34m\"1.png\"\u001b[0m\u001b[1;33m)\u001b[0m\u001b[1;33m\u001b[0m\u001b[1;33m\u001b[0m\u001b[0m\n\u001b[0;32m     10\u001b[0m     \u001b[0mplt\u001b[0m\u001b[1;33m.\u001b[0m\u001b[0mshow\u001b[0m\u001b[1;33m(\u001b[0m\u001b[1;33m)\u001b[0m\u001b[1;33m\u001b[0m\u001b[1;33m\u001b[0m\u001b[0m\n\u001b[1;32m---> 11\u001b[1;33m \u001b[0mshow_train_history\u001b[0m\u001b[1;33m(\u001b[0m\u001b[1;34m'acc'\u001b[0m\u001b[1;33m,\u001b[0m\u001b[1;34m'val_acc'\u001b[0m\u001b[1;33m)\u001b[0m\u001b[1;33m\u001b[0m\u001b[1;33m\u001b[0m\u001b[0m\n\u001b[0m",
      "\u001b[1;32m<ipython-input-10-230417b58b8e>\u001b[0m in \u001b[0;36mshow_train_history\u001b[1;34m(train_acc, test_acc)\u001b[0m\n\u001b[0;32m      1\u001b[0m \u001b[1;32mimport\u001b[0m \u001b[0mmatplotlib\u001b[0m\u001b[1;33m.\u001b[0m\u001b[0mpyplot\u001b[0m \u001b[1;32mas\u001b[0m \u001b[0mplt\u001b[0m\u001b[1;33m\u001b[0m\u001b[1;33m\u001b[0m\u001b[0m\n\u001b[0;32m      2\u001b[0m \u001b[1;32mdef\u001b[0m \u001b[0mshow_train_history\u001b[0m\u001b[1;33m(\u001b[0m\u001b[0mtrain_acc\u001b[0m\u001b[1;33m,\u001b[0m\u001b[0mtest_acc\u001b[0m\u001b[1;33m)\u001b[0m\u001b[1;33m:\u001b[0m\u001b[1;33m\u001b[0m\u001b[1;33m\u001b[0m\u001b[0m\n\u001b[1;32m----> 3\u001b[1;33m     \u001b[0mplt\u001b[0m\u001b[1;33m.\u001b[0m\u001b[0mplot\u001b[0m\u001b[1;33m(\u001b[0m\u001b[0mtrain_history\u001b[0m\u001b[1;33m.\u001b[0m\u001b[0mhistory\u001b[0m\u001b[1;33m[\u001b[0m\u001b[0mtrain_acc\u001b[0m\u001b[1;33m]\u001b[0m\u001b[1;33m)\u001b[0m\u001b[1;33m\u001b[0m\u001b[1;33m\u001b[0m\u001b[0m\n\u001b[0m\u001b[0;32m      4\u001b[0m     \u001b[0mplt\u001b[0m\u001b[1;33m.\u001b[0m\u001b[0mplot\u001b[0m\u001b[1;33m(\u001b[0m\u001b[0mtrain_history\u001b[0m\u001b[1;33m.\u001b[0m\u001b[0mhistory\u001b[0m\u001b[1;33m[\u001b[0m\u001b[0mtest_acc\u001b[0m\u001b[1;33m]\u001b[0m\u001b[1;33m)\u001b[0m\u001b[1;33m\u001b[0m\u001b[1;33m\u001b[0m\u001b[0m\n\u001b[0;32m      5\u001b[0m     \u001b[0mplt\u001b[0m\u001b[1;33m.\u001b[0m\u001b[0mtitle\u001b[0m\u001b[1;33m(\u001b[0m\u001b[1;34m'Train History'\u001b[0m\u001b[1;33m)\u001b[0m\u001b[1;33m\u001b[0m\u001b[1;33m\u001b[0m\u001b[0m\n",
      "\u001b[1;31mNameError\u001b[0m: name 'train_history' is not defined"
     ]
    }
   ],
   "source": [
    "import matplotlib.pyplot as plt\n",
    "def show_train_history(train_acc,test_acc):\n",
    "    plt.plot(train_history.history[train_acc])\n",
    "    plt.plot(train_history.history[test_acc])\n",
    "    plt.title('Train History')\n",
    "    plt.ylabel('Accuracy')\n",
    "    plt.xlabel('Epoch')\n",
    "    plt.legend(['train', 'test'], loc='upper left')\n",
    "    plt.savefig(\"1.png\")\n",
    "    plt.show()\n",
    "show_train_history('acc','val_acc')"
   ]
  },
  {
   "cell_type": "code",
   "execution_count": 9,
   "metadata": {},
   "outputs": [
    {
     "ename": "NameError",
     "evalue": "name 'show_train_history' is not defined",
     "output_type": "error",
     "traceback": [
      "\u001b[1;31m---------------------------------------------------------------------------\u001b[0m",
      "\u001b[1;31mNameError\u001b[0m                                 Traceback (most recent call last)",
      "\u001b[1;32m<ipython-input-9-219052b9d85b>\u001b[0m in \u001b[0;36m<module>\u001b[1;34m\u001b[0m\n\u001b[1;32m----> 1\u001b[1;33m \u001b[0mshow_train_history\u001b[0m\u001b[1;33m(\u001b[0m\u001b[1;34m'loss'\u001b[0m\u001b[1;33m,\u001b[0m\u001b[1;34m'val_loss'\u001b[0m\u001b[1;33m)\u001b[0m\u001b[1;33m\u001b[0m\u001b[1;33m\u001b[0m\u001b[0m\n\u001b[0m",
      "\u001b[1;31mNameError\u001b[0m: name 'show_train_history' is not defined"
     ]
    }
   ],
   "source": [
    "show_train_history('loss','val_loss')"
   ]
  },
  {
   "cell_type": "code",
   "execution_count": 31,
   "metadata": {},
   "outputs": [
    {
     "name": "stdout",
     "output_type": "stream",
     "text": [
      "['loss', 'acc']\n",
      "[0.7548947960853577, 0.7376]\n",
      "0.7376\n"
     ]
    }
   ],
   "source": [
    "#模型评估：\n",
    "print(model.metrics_names)\n",
    "scores = model.evaluate(x_img_test_normalize, \n",
    "                        y_label_test_OneHot, verbose=0)\n",
    "print(scores)\n",
    "print(scores[1])\n",
    "'''\n",
    "evaluate(self, x, y, batch_size=32, verbose=1, sample_weight=None)\n",
    "\n",
    "batch_size：整数，\n",
    "指定进行梯度下降时每个batch包含的样本数。\n",
    "训练时一个batch的样本会被计算一次梯度下降，\n",
    "使目标函数优化一步。\n",
    "\n",
    "epochs：整数，\n",
    "训练终止时的epoch值，\n",
    "训练将在达到该epoch值时停止，\n",
    "当没有设置initial_epoch时，\n",
    "它就是训练的总轮数，\n",
    "否则训练的总轮数为epochs - inital_epoch\n",
    "\n",
    "verbose：日志显示，\n",
    "0为不在标准输出流输出日志信息，\n",
    "1为输出进度条记录，2为每个epoch输出一行记录\n",
    "'''"
   ]
  },
  {
   "cell_type": "code",
   "execution_count": 33,
   "metadata": {},
   "outputs": [
    {
     "data": {
      "text/plain": [
       "array([3, 8, 8, 0, 6, 6, 1, 6, 3, 1], dtype=int64)"
      ]
     },
     "execution_count": 33,
     "metadata": {},
     "output_type": "execute_result"
    }
   ],
   "source": [
    "prediction=model.predict_classes(x_img_test_normalize)\n",
    "prediction[:10]"
   ]
  },
  {
   "cell_type": "code",
   "execution_count": 34,
   "metadata": {},
   "outputs": [],
   "source": [
    "label_dict={0:\"airplane\",1:\"automobile\",2:\"bird\",3:\"cat\",4:\"deer\",\n",
    "            5:\"dog\",6:\"frog\",7:\"horse\",8:\"ship\",9:\"truck\"}\n",
    "import matplotlib.pyplot as plt\n",
    "def plot_images_labels_prediction(images,labels,prediction,\n",
    "                                  idx,num=10):\n",
    "    fig = plt.gcf()\n",
    "    fig.set_size_inches(12, 14)\n",
    "    if num>25: num=25 \n",
    "    for i in range(0, num):\n",
    "        ax=plt.subplot(5,5, 1+i)\n",
    "        ax.imshow(images[idx],cmap='binary')\n",
    "                \n",
    "        title=str(i)+','+label_dict[labels[i][0]]\n",
    "        if len(prediction)>0:\n",
    "            title+='=>'+label_dict[prediction[i]]\n",
    "            \n",
    "        ax.set_title(title,fontsize=10) \n",
    "        ax.set_xticks([]);ax.set_yticks([])        \n",
    "        idx+=1 \n",
    "    plt.show()\n"
   ]
  },
  {
   "cell_type": "code",
   "execution_count": 35,
   "metadata": {},
   "outputs": [
    {
     "data": {
      "image/png": "[encoded data removed]",
      "text/plain": [
       "<Figure size 864x1008 with 10 Axes>"
      ]
     },
     "metadata": {},
     "output_type": "display_data"
    }
   ],
   "source": [
    "plot_images_labels_prediction(x_img_test,y_label_test,prediction,0,10)"
   ]
  },
  {
   "cell_type": "code",
   "execution_count": 36,
   "metadata": {},
   "outputs": [],
   "source": [
    "label_dict={0:\"airplane\",1:\"automobile\",2:\"bird\",3:\"cat\",4:\"deer\",\n",
    "            5:\"dog\",6:\"frog\",7:\"horse\",8:\"ship\",9:\"truck\"}\n",
    "def show_Predicted_Probability(y,prediction,x_img,Predicted_Probability,i):\n",
    "    print('label:',label_dict[y[i][0]],'predict:',label_dict[prediction[i]])\n",
    "    plt.figure(figsize=(2,2))\n",
    "    plt.imshow(np.reshape(x_img_test[i],(32, 32,3)))\n",
    "    plt.show()\n",
    "    for j in range(10):\n",
    "        print(label_dict[j]+' Probability:%1.9f'%(Predicted_Probability[i][j]))\n"
   ]
  },
  {
   "cell_type": "markdown",
   "metadata": {},
   "source": []
  },
  {
   "cell_type": "code",
   "execution_count": null,
   "metadata": {},
   "outputs": [],
   "source": []
  }
 ],
 "metadata": {
  "kernelspec": {
   "display_name": "Python 3",
   "language": "python",
   "name": "python3"
  },
  "language_info": {
   "codemirror_mode": {
    "name": "ipython",
    "version": 3
   },
   "file_extension": ".py",
   "mimetype": "text/x-python",
   "name": "python",
   "nbconvert_exporter": "python",
   "pygments_lexer": "ipython3",
   "version": "3.6.7"
  }
 },
 "nbformat": 4,
 "nbformat_minor": 2
}
